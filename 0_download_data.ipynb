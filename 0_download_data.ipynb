{
 "cells": [
  {
   "cell_type": "code",
   "execution_count": 1,
   "id": "eabbf704",
   "metadata": {},
   "outputs": [],
   "source": [
    "from tqdm import tqdm\n",
    "import requests\n",
    "import os"
   ]
  },
  {
   "cell_type": "code",
   "execution_count": 2,
   "id": "6cfb04ad",
   "metadata": {},
   "outputs": [],
   "source": [
    "files_list = [\n",
    "              'https://data.cityofnewyork.us/api/views/jt7v-77mi/rows.csv?accessType=DOWNLOAD',\n",
    "              'https://data.cityofnewyork.us/api/views/c284-tqph/rows.csv?accessType=DOWNLOAD',\n",
    "              'https://data.cityofnewyork.us/api/views/kiv2-tbus/rows.csv?accessType=DOWNLOAD&bom=true&query=select+*'\n",
    "              'https://data.cityofnewyork.us/api/views/2bnn-yakx/rows.csv?accessType=DOWNLOAD',\n",
    "              'https://data.cityofnewyork.us/api/views/a5td-mswe/rows.csv?accessType=DOWNLOAD',\n",
    "              'https://data.cityofnewyork.us/api/views/faiq-9dfq/rows.csv?accessType=DOWNLOAD',\n",
    "              'https://data.cityofnewyork.us/api/views/p7t3-5i9s/rows.csv?accessType=DOWNLOAD',\n",
    "              'https://data.cityofnewyork.us/api/views/kvfd-bves/rows.csv?accessType=DOWNLOAD'\n",
    "              \n",
    "             ]\n",
    "file_names = ['Parking_Violations_Issued_-_Fiscal_Year_2014.csv',\n",
    "             'Parking_Violations_Issued_-_Fiscal_Year_2015.csv',\n",
    "             'Parking_Violations_Issued_-_Fiscal_Year_2016.csv',\n",
    "             'Parking_Violations_Issued_-_Fiscal_Year_2017.csv',\n",
    "             'Parking_Violations_Issued_-_Fiscal_Year_2018.csv',\n",
    "             'Parking_Violations_Issued_-_Fiscal_Year_2019.csv',\n",
    "             'Parking_Violations_Issued_-_Fiscal_Year_2020.csv',\n",
    "             'Parking_Violations_Issued_-_Fiscal_Year_2021.csv']\n",
    "\n",
    "# "
   ]
  },
  {
   "cell_type": "code",
   "execution_count": 3,
   "id": "ee17b1d7",
   "metadata": {},
   "outputs": [
    {
     "name": "stderr",
     "output_type": "stream",
     "text": [
      "7it [1:03:39, 545.67s/it]\n"
     ]
    }
   ],
   "source": [
    "for i, file_url in tqdm(enumerate(files_list)):\n",
    "#     file_url = folder_url + file\n",
    "    r = requests.get(file_url)\n",
    "    with open(os.path.join('..','Data','NYCparkingViolations','violationData', file_names[i]),'wb') as f:\n",
    "        f.write(r.content)"
   ]
  },
  {
   "cell_type": "code",
   "execution_count": null,
   "id": "b2843c7c",
   "metadata": {},
   "outputs": [],
   "source": []
  }
 ],
 "metadata": {
  "kernelspec": {
   "display_name": "venv_dataJour",
   "language": "python",
   "name": "venv_datajour"
  },
  "language_info": {
   "codemirror_mode": {
    "name": "ipython",
    "version": 3
   },
   "file_extension": ".py",
   "mimetype": "text/x-python",
   "name": "python",
   "nbconvert_exporter": "python",
   "pygments_lexer": "ipython3",
   "version": "3.9.5"
  }
 },
 "nbformat": 4,
 "nbformat_minor": 5
}
