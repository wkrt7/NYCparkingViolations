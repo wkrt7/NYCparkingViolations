{
 "cells": [
  {
   "cell_type": "code",
   "execution_count": null,
   "id": "f6e4f8f9",
   "metadata": {},
   "outputs": [],
   "source": [
    "import pandas as pd\n",
    "import json\n",
    "import math\n",
    "import plotly.express as px\n",
    "import numpy as np\n",
    "from sklearn import neighbors"
   ]
  },
  {
   "cell_type": "code",
   "execution_count": null,
   "id": "1811b000",
   "metadata": {},
   "outputs": [],
   "source": [
    "nycmap = json.load(open(\"pluto.geojson\"))"
   ]
  },
  {
   "cell_type": "code",
   "execution_count": null,
   "id": "0713a3f4",
   "metadata": {},
   "outputs": [],
   "source": [
    "libs = pd.read_csv('facilities_filtered_2021-08-11.csv', usecols=['facname', 'latitude', 'longitude'])\n",
    "libs['latitude'] = libs['latitude'].apply(func=math.radians)\n",
    "libs['longitude'] = libs['longitude'].apply(func=math.radians)\n",
    "libs['coord'] = list(zip(libs['latitude'], libs['longitude']))"
   ]
  },
  {
   "cell_type": "code",
   "execution_count": null,
   "id": "2fc34b2d",
   "metadata": {
    "scrolled": true
   },
   "outputs": [],
   "source": [
    "libcoords = np.asarray(list(libs['coord']))"
   ]
  },
  {
   "cell_type": "code",
   "execution_count": null,
   "id": "06a34f27",
   "metadata": {},
   "outputs": [],
   "source": [
    "tree = neighbors.BallTree(libcoords, metric=\"haversine\")"
   ]
  },
  {
   "cell_type": "code",
   "execution_count": null,
   "id": "97f711f2",
   "metadata": {},
   "outputs": [],
   "source": [
    "nycmap"
   ]
  },
  {
   "cell_type": "code",
   "execution_count": null,
   "id": "04a156a5",
   "metadata": {},
   "outputs": [],
   "source": [
    "df = pd.read_csv('pluto_21v2.csv')"
   ]
  },
  {
   "cell_type": "code",
   "execution_count": null,
   "id": "c53bfc77",
   "metadata": {},
   "outputs": [],
   "source": [
    "df = df.dropna(subset=['assesstot', 'bldgarea', 'lotarea', 'latitude', 'longitude'])\n",
    "df['latitude'] = df['latitude'].apply(func=math.radians)\n",
    "df['longitude'] = df['longitude'].apply(func=math.radians)\n",
    "df['coord'] = list(zip(df['latitude'], df['longitude']))"
   ]
  },
  {
   "cell_type": "code",
   "execution_count": null,
   "id": "2266e65c",
   "metadata": {},
   "outputs": [],
   "source": [
    "lotcoords = np.asarray(list(df['coord']))"
   ]
  },
  {
   "cell_type": "code",
   "execution_count": null,
   "id": "c21a64ba",
   "metadata": {},
   "outputs": [],
   "source": [
    "dist, _ = tree.query(X=lotcoords, k=1)"
   ]
  },
  {
   "cell_type": "code",
   "execution_count": null,
   "id": "39c5e0a9",
   "metadata": {},
   "outputs": [],
   "source": [
    "df['dist'] = dist"
   ]
  },
  {
   "cell_type": "code",
   "execution_count": null,
   "id": "216fbb8d",
   "metadata": {},
   "outputs": [],
   "source": [
    "nycmap"
   ]
  },
  {
   "cell_type": "code",
   "execution_count": null,
   "id": "c6b9842f",
   "metadata": {},
   "outputs": [],
   "source": [
    "df"
   ]
  },
  {
   "cell_type": "code",
   "execution_count": null,
   "id": "4eed2598",
   "metadata": {},
   "outputs": [],
   "source": [
    "df['dist'] = df['dist'].apply(lambda x: x*3960)"
   ]
  },
  {
   "cell_type": "code",
   "execution_count": null,
   "id": "ddf2117e",
   "metadata": {},
   "outputs": [],
   "source": [
    "fig = px.choropleth_mapbox(df,\n",
    "                           geojson=nycmap,\n",
    "                           locations=\"bbl\",\n",
    "                           featureidkey=\"properties.bbl\",\n",
    "                           color=\"dist\",\n",
    "                           color_continuous_scale=px.colors.sequential.thermal[::-1],\n",
    "                           range_color=(0, 0.5),\n",
    "                           mapbox_style=\"carto-positron\",\n",
    "                           zoom=9, center={\"lat\": 40.7, \"lon\": -73.7},\n",
    "                           opacity=0.7,\n",
    "                           hover_name=\"ownername\"\n",
    "                           )"
   ]
  },
  {
   "cell_type": "code",
   "execution_count": null,
   "id": "4281366f",
   "metadata": {
    "scrolled": true
   },
   "outputs": [],
   "source": [
    "fig.show()"
   ]
  }
 ],
 "metadata": {
  "kernelspec": {
   "display_name": "venv_dataJour",
   "language": "python",
   "name": "venv_datajour"
  },
  "language_info": {
   "codemirror_mode": {
    "name": "ipython",
    "version": 3
   },
   "file_extension": ".py",
   "mimetype": "text/x-python",
   "name": "python",
   "nbconvert_exporter": "python",
   "pygments_lexer": "ipython3",
   "version": "3.9.5"
  }
 },
 "nbformat": 4,
 "nbformat_minor": 5
}
