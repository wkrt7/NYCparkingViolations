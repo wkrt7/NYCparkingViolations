{
 "cells": [
  {
   "cell_type": "code",
   "execution_count": 1,
   "id": "7864e5a6",
   "metadata": {},
   "outputs": [],
   "source": [
    "import pandas as pd\n",
    "import os\n",
    "from tqdm import tqdm\n",
    "from"
   ]
  },
  {
   "cell_type": "code",
   "execution_count": 2,
   "id": "063b87be",
   "metadata": {},
   "outputs": [],
   "source": [
    "csv_path = os.path.join('..','Data','NYCparkingViolations','Parking_Violations_Issued_-_Fiscal_Year_2021.csv')"
   ]
  },
  {
   "cell_type": "code",
   "execution_count": 3,
   "id": "3f2b5373",
   "metadata": {},
   "outputs": [],
   "source": [
    "req_cols = ['Street Name','House Number', ]"
   ]
  },
  {
   "cell_type": "code",
   "execution_count": 4,
   "id": "2dea5009",
   "metadata": {},
   "outputs": [
    {
     "ename": "NameError",
     "evalue": "name 'df' is not defined",
     "output_type": "error",
     "traceback": [
      "\u001b[1;31m---------------------------------------------------------------------------\u001b[0m",
      "\u001b[1;31mNameError\u001b[0m                                 Traceback (most recent call last)",
      "\u001b[1;32m~\\AppData\\Local\\Temp/ipykernel_8728/3289350417.py\u001b[0m in \u001b[0;36m<module>\u001b[1;34m\u001b[0m\n\u001b[1;32m----> 1\u001b[1;33m \u001b[0mdf\u001b[0m\u001b[1;33m.\u001b[0m\u001b[0mcolumns\u001b[0m\u001b[1;33m\u001b[0m\u001b[1;33m\u001b[0m\u001b[0m\n\u001b[0m",
      "\u001b[1;31mNameError\u001b[0m: name 'df' is not defined"
     ]
    }
   ],
   "source": [
    "df.columns"
   ]
  },
  {
   "cell_type": "code",
   "execution_count": null,
   "id": "e4ab604e",
   "metadata": {
    "scrolled": true
   },
   "outputs": [],
   "source": [
    "df = pd.read_csv(csv_path, nrows=100000)"
   ]
  },
  {
   "cell_type": "code",
   "execution_count": 54,
   "id": "658a07a7",
   "metadata": {},
   "outputs": [
    {
     "name": "stderr",
     "output_type": "stream",
     "text": [
      "100%|███████████████████████████████████████████████████████████████████████████████████| 8/8 [15:51<00:00, 118.92s/it]\n"
     ]
    }
   ],
   "source": [
    "aggr_str_nb = None\n",
    "# aggr_str = dict()\n",
    "for file in tqdm(os.listdir(os.path.join('..','Data','NYCparkingViolations', 'violationData'))):\n",
    "    if not file.endswith('.csv'):\n",
    "        continue\n",
    "    for chunk in (pd.read_csv(csv_path, chunksize=1000000, usecols= req_cols)):\n",
    "\n",
    "        if aggr_str_nb is None:\n",
    "            aggr_str_nb = chunk.groupby(['Street Name','House Number']).size()\n",
    "            aggr_str = chunk['Street Name'].value_counts()\n",
    "\n",
    "        else:\n",
    "            aggr_str_nb = aggr_str_nb.add(chunk.groupby(['Street Name','House Number']).size(), fill_value=0)\n",
    "            aggr_str = aggr_str.add(chunk['Street Name'].value_counts(), fill_value=0)\n",
    "            \n",
    "aggr_str_nb.to_csv('aggr_str_nb.csv')\n",
    "aggr_str.to_csv('aggr_str.csv')"
   ]
  },
  {
   "cell_type": "code",
   "execution_count": 42,
   "id": "aa41d135",
   "metadata": {},
   "outputs": [],
   "source": [
    "t = aggr_str.add(chunk['Street Name'].value_counts(), fill_value=0)"
   ]
  },
  {
   "cell_type": "code",
   "execution_count": 50,
   "id": "bab6b6fd",
   "metadata": {},
   "outputs": [
    {
     "data": {
      "text/plain": [
       "Street Name       House Number\n",
       "PELHAM PKWY S     1400            147.0\n",
       "ORCHARD BEACH RD  1               119.0\n",
       "DYCKMAN ST        348             105.0\n",
       "ATLANTIC AVE      1825             98.0\n",
       "VIELE AVE         1340             91.0\n",
       "                                  ...  \n",
       "BLONDELL AVE      1401              7.0\n",
       "BLAKE ST          338               7.0\n",
       "BLAKE AVENUE      392               7.0\n",
       "                  375               7.0\n",
       "ZEREGA AVENUE     1668              7.0\n",
       "Length: 6059, dtype: float64"
      ]
     },
     "execution_count": 50,
     "metadata": {},
     "output_type": "execute_result"
    }
   ],
   "source": [
    "aggr_str_nb.sort_values(ascending=False) \n"
   ]
  },
  {
   "cell_type": "code",
   "execution_count": 51,
   "id": "f306c3f9",
   "metadata": {},
   "outputs": [],
   "source": [
    "aggr_str_nb.to_csv('aggr_str_nb.csv')"
   ]
  },
  {
   "cell_type": "code",
   "execution_count": 23,
   "id": "860f10eb",
   "metadata": {},
   "outputs": [
    {
     "ename": "NameError",
     "evalue": "name 'result' is not defined",
     "output_type": "error",
     "traceback": [
      "\u001b[1;31m---------------------------------------------------------------------------\u001b[0m",
      "\u001b[1;31mNameError\u001b[0m                                 Traceback (most recent call last)",
      "\u001b[1;32m~\\AppData\\Local\\Temp/ipykernel_8728/1049141082.py\u001b[0m in \u001b[0;36m<module>\u001b[1;34m\u001b[0m\n\u001b[1;32m----> 1\u001b[1;33m \u001b[0mresult\u001b[0m\u001b[1;33m\u001b[0m\u001b[1;33m\u001b[0m\u001b[0m\n\u001b[0m",
      "\u001b[1;31mNameError\u001b[0m: name 'result' is not defined"
     ]
    }
   ],
   "source": [
    "result"
   ]
  },
  {
   "cell_type": "code",
   "execution_count": null,
   "id": "911eb765",
   "metadata": {},
   "outputs": [],
   "source": [
    "aggr_str = chunk['Street Name'].value_counts()"
   ]
  },
  {
   "cell_type": "code",
   "execution_count": 20,
   "id": "8d6a5720",
   "metadata": {},
   "outputs": [
    {
     "data": {
      "text/plain": [
       "Street Name    House Number\n",
       "1 AVE          1746           NaN\n",
       "               2330           NaN\n",
       "10 AVE         6809           NaN\n",
       "10 AVENUE      7604           NaN\n",
       "10 ST          40-05          NaN\n",
       "                               ..\n",
       "YORK AVE       1571           NaN\n",
       "               1597           NaN\n",
       "YORK STREET    202            NaN\n",
       "YUCCA DR       3              NaN\n",
       "ZEREGA AVENUE  1668           NaN\n",
       "Length: 6059, dtype: float64"
      ]
     },
     "execution_count": 20,
     "metadata": {},
     "output_type": "execute_result"
    }
   ],
   "source": [
    "aggr_str_nb"
   ]
  },
  {
   "cell_type": "code",
   "execution_count": null,
   "id": "981ab598",
   "metadata": {},
   "outputs": [],
   "source": [
    "aggr_str + chunk['Street Name'].value_counts()"
   ]
  },
  {
   "cell_type": "code",
   "execution_count": 7,
   "id": "bb6f2e27",
   "metadata": {},
   "outputs": [
    {
     "data": {
      "text/plain": [
       "WB CONDUIT BLVD @ LI    1869\n",
       "WB QUEENS BLVD @ 72N    1813\n",
       "EB W 14TH STREET @ 5    1671\n",
       "EB HORACE HARDING EX    1083\n",
       "SB WEST ST @ LEROY S     984\n",
       "                        ... \n",
       "24 AVE                     1\n",
       "E RD ST                    1\n",
       "BAY 16                     1\n",
       "83 STREET                  1\n",
       "EB NEW DORP PLAZA SO       1\n",
       "Name: Street Name, Length: 3601, dtype: int64"
      ]
     },
     "execution_count": 7,
     "metadata": {},
     "output_type": "execute_result"
    }
   ],
   "source": [
    "df['Street Name'].value_counts()"
   ]
  },
  {
   "cell_type": "code",
   "execution_count": 16,
   "id": "09042890",
   "metadata": {},
   "outputs": [
    {
     "data": {
      "text/plain": [
       "Street Name       House Number\n",
       "PELHAM PKWY S     1400            21\n",
       "ORCHARD BEACH RD  1               17\n",
       "DYCKMAN ST        348             15\n",
       "ATLANTIC AVE      1825            14\n",
       "VIELE AVE         1340            13\n",
       "                                  ..\n",
       "BLONDELL AVE      1401             1\n",
       "BLAKE ST          338              1\n",
       "BLAKE AVENUE      392              1\n",
       "                  375              1\n",
       "ZEREGA AVENUE     1668             1\n",
       "Length: 6059, dtype: int64"
      ]
     },
     "execution_count": 16,
     "metadata": {},
     "output_type": "execute_result"
    }
   ],
   "source": [
    "df.groupby(['Street Name','House Number']).size().sort_values(ascending=False) "
   ]
  },
  {
   "cell_type": "code",
   "execution_count": 12,
   "id": "8c350b01",
   "metadata": {},
   "outputs": [
    {
     "data": {
      "text/plain": [
       "Index(['Summons Number', 'Plate ID', 'Registration State', 'Plate Type',\n",
       "       'Issue Date', 'Violation Code', 'Vehicle Body Type', 'Vehicle Make',\n",
       "       'Issuing Agency', 'Street Code1', 'Street Code2', 'Street Code3',\n",
       "       'Vehicle Expiration Date', 'Violation Location', 'Violation Precinct',\n",
       "       'Issuer Precinct', 'Issuer Code', 'Issuer Command', 'Issuer Squad',\n",
       "       'Violation Time', 'Time First Observed', 'Violation County',\n",
       "       'Violation In Front Of Or Opposite', 'House Number', 'Street Name',\n",
       "       'Intersecting Street', 'Date First Observed', 'Law Section',\n",
       "       'Sub Division', 'Violation Legal Code', 'Days Parking In Effect',\n",
       "       'From Hours In Effect', 'To Hours In Effect', 'Vehicle Color',\n",
       "       'Unregistered Vehicle?', 'Vehicle Year', 'Meter Number',\n",
       "       'Feet From Curb', 'Violation Post Code', 'Violation Description',\n",
       "       'No Standing or Stopping Violation', 'Hydrant Violation',\n",
       "       'Double Parking Violation'],\n",
       "      dtype='object')"
      ]
     },
     "execution_count": 12,
     "metadata": {},
     "output_type": "execute_result"
    }
   ],
   "source": [
    "df.columns"
   ]
  },
  {
   "cell_type": "markdown",
   "id": "fb32a801",
   "metadata": {},
   "source": [
    "# nie ma bbl trzeba to będzie obejść"
   ]
  },
  {
   "cell_type": "code",
   "execution_count": 35,
   "id": "3e489a2a",
   "metadata": {
    "scrolled": false
   },
   "outputs": [
    {
     "ename": "KeyError",
     "evalue": "\"['bbl'] not in index\"",
     "output_type": "error",
     "traceback": [
      "\u001b[1;31m---------------------------------------------------------------------------\u001b[0m",
      "\u001b[1;31mKeyError\u001b[0m                                  Traceback (most recent call last)",
      "\u001b[1;32m~\\AppData\\Local\\Temp/ipykernel_7680/214217517.py\u001b[0m in \u001b[0;36m<module>\u001b[1;34m\u001b[0m\n\u001b[1;32m----> 1\u001b[1;33m \u001b[0mdf\u001b[0m\u001b[1;33m[\u001b[0m\u001b[1;33m[\u001b[0m\u001b[1;34m'House Number'\u001b[0m\u001b[1;33m,\u001b[0m \u001b[1;34m'bbl'\u001b[0m\u001b[1;33m]\u001b[0m\u001b[1;33m]\u001b[0m\u001b[1;33m\u001b[0m\u001b[1;33m\u001b[0m\u001b[0m\n\u001b[0m",
      "\u001b[1;32mD:\\Data\\projekty\\DataJournalism\\venv_dataJour\\lib\\site-packages\\pandas\\core\\frame.py\u001b[0m in \u001b[0;36m__getitem__\u001b[1;34m(self, key)\u001b[0m\n\u001b[0;32m   3459\u001b[0m             \u001b[1;32mif\u001b[0m \u001b[0mis_iterator\u001b[0m\u001b[1;33m(\u001b[0m\u001b[0mkey\u001b[0m\u001b[1;33m)\u001b[0m\u001b[1;33m:\u001b[0m\u001b[1;33m\u001b[0m\u001b[1;33m\u001b[0m\u001b[0m\n\u001b[0;32m   3460\u001b[0m                 \u001b[0mkey\u001b[0m \u001b[1;33m=\u001b[0m \u001b[0mlist\u001b[0m\u001b[1;33m(\u001b[0m\u001b[0mkey\u001b[0m\u001b[1;33m)\u001b[0m\u001b[1;33m\u001b[0m\u001b[1;33m\u001b[0m\u001b[0m\n\u001b[1;32m-> 3461\u001b[1;33m             \u001b[0mindexer\u001b[0m \u001b[1;33m=\u001b[0m \u001b[0mself\u001b[0m\u001b[1;33m.\u001b[0m\u001b[0mloc\u001b[0m\u001b[1;33m.\u001b[0m\u001b[0m_get_listlike_indexer\u001b[0m\u001b[1;33m(\u001b[0m\u001b[0mkey\u001b[0m\u001b[1;33m,\u001b[0m \u001b[0maxis\u001b[0m\u001b[1;33m=\u001b[0m\u001b[1;36m1\u001b[0m\u001b[1;33m)\u001b[0m\u001b[1;33m[\u001b[0m\u001b[1;36m1\u001b[0m\u001b[1;33m]\u001b[0m\u001b[1;33m\u001b[0m\u001b[1;33m\u001b[0m\u001b[0m\n\u001b[0m\u001b[0;32m   3462\u001b[0m \u001b[1;33m\u001b[0m\u001b[0m\n\u001b[0;32m   3463\u001b[0m         \u001b[1;31m# take() does not accept boolean indexers\u001b[0m\u001b[1;33m\u001b[0m\u001b[1;33m\u001b[0m\u001b[1;33m\u001b[0m\u001b[0m\n",
      "\u001b[1;32mD:\\Data\\projekty\\DataJournalism\\venv_dataJour\\lib\\site-packages\\pandas\\core\\indexing.py\u001b[0m in \u001b[0;36m_get_listlike_indexer\u001b[1;34m(self, key, axis)\u001b[0m\n\u001b[0;32m   1312\u001b[0m             \u001b[0mkeyarr\u001b[0m\u001b[1;33m,\u001b[0m \u001b[0mindexer\u001b[0m\u001b[1;33m,\u001b[0m \u001b[0mnew_indexer\u001b[0m \u001b[1;33m=\u001b[0m \u001b[0max\u001b[0m\u001b[1;33m.\u001b[0m\u001b[0m_reindex_non_unique\u001b[0m\u001b[1;33m(\u001b[0m\u001b[0mkeyarr\u001b[0m\u001b[1;33m)\u001b[0m\u001b[1;33m\u001b[0m\u001b[1;33m\u001b[0m\u001b[0m\n\u001b[0;32m   1313\u001b[0m \u001b[1;33m\u001b[0m\u001b[0m\n\u001b[1;32m-> 1314\u001b[1;33m         \u001b[0mself\u001b[0m\u001b[1;33m.\u001b[0m\u001b[0m_validate_read_indexer\u001b[0m\u001b[1;33m(\u001b[0m\u001b[0mkeyarr\u001b[0m\u001b[1;33m,\u001b[0m \u001b[0mindexer\u001b[0m\u001b[1;33m,\u001b[0m \u001b[0maxis\u001b[0m\u001b[1;33m)\u001b[0m\u001b[1;33m\u001b[0m\u001b[1;33m\u001b[0m\u001b[0m\n\u001b[0m\u001b[0;32m   1315\u001b[0m \u001b[1;33m\u001b[0m\u001b[0m\n\u001b[0;32m   1316\u001b[0m         if needs_i8_conversion(ax.dtype) or isinstance(\n",
      "\u001b[1;32mD:\\Data\\projekty\\DataJournalism\\venv_dataJour\\lib\\site-packages\\pandas\\core\\indexing.py\u001b[0m in \u001b[0;36m_validate_read_indexer\u001b[1;34m(self, key, indexer, axis)\u001b[0m\n\u001b[0;32m   1375\u001b[0m \u001b[1;33m\u001b[0m\u001b[0m\n\u001b[0;32m   1376\u001b[0m             \u001b[0mnot_found\u001b[0m \u001b[1;33m=\u001b[0m \u001b[0mlist\u001b[0m\u001b[1;33m(\u001b[0m\u001b[0mensure_index\u001b[0m\u001b[1;33m(\u001b[0m\u001b[0mkey\u001b[0m\u001b[1;33m)\u001b[0m\u001b[1;33m[\u001b[0m\u001b[0mmissing_mask\u001b[0m\u001b[1;33m.\u001b[0m\u001b[0mnonzero\u001b[0m\u001b[1;33m(\u001b[0m\u001b[1;33m)\u001b[0m\u001b[1;33m[\u001b[0m\u001b[1;36m0\u001b[0m\u001b[1;33m]\u001b[0m\u001b[1;33m]\u001b[0m\u001b[1;33m.\u001b[0m\u001b[0munique\u001b[0m\u001b[1;33m(\u001b[0m\u001b[1;33m)\u001b[0m\u001b[1;33m)\u001b[0m\u001b[1;33m\u001b[0m\u001b[1;33m\u001b[0m\u001b[0m\n\u001b[1;32m-> 1377\u001b[1;33m             \u001b[1;32mraise\u001b[0m \u001b[0mKeyError\u001b[0m\u001b[1;33m(\u001b[0m\u001b[1;34mf\"{not_found} not in index\"\u001b[0m\u001b[1;33m)\u001b[0m\u001b[1;33m\u001b[0m\u001b[1;33m\u001b[0m\u001b[0m\n\u001b[0m\u001b[0;32m   1378\u001b[0m \u001b[1;33m\u001b[0m\u001b[0m\n\u001b[0;32m   1379\u001b[0m \u001b[1;33m\u001b[0m\u001b[0m\n",
      "\u001b[1;31mKeyError\u001b[0m: \"['bbl'] not in index\""
     ]
    }
   ],
   "source": [
    "df[['House Number', 'bbl']]"
   ]
  },
  {
   "cell_type": "code",
   "execution_count": 30,
   "id": "21e69b05",
   "metadata": {},
   "outputs": [
    {
     "data": {
      "text/plain": [
       "'SHORE FRONT PKWY'"
      ]
     },
     "execution_count": 30,
     "metadata": {},
     "output_type": "execute_result"
    }
   ],
   "source": [
    "df.iloc[0]['House Number']"
   ]
  },
  {
   "cell_type": "code",
   "execution_count": 56,
   "id": "83c9427a",
   "metadata": {},
   "outputs": [],
   "source": [
    "from geopy import Nominatim\n",
    "locator  = Nominatim(user_agent=\"myGeocoder\")"
   ]
  },
  {
   "cell_type": "code",
   "execution_count": 61,
   "id": "57983049",
   "metadata": {},
   "outputs": [
    {
     "data": {
      "text/plain": [
       "Location(42nd Street - Times Square (N,Q,R,W), Broadway, Manhattan Community Board 5, Manhattan, New York County, New York, 10019, United States, (40.75475555, -73.98663778727598, 0.0))"
      ]
     },
     "execution_count": 61,
     "metadata": {},
     "output_type": "execute_result"
    }
   ],
   "source": [
    "locator.geocode(('Broadway', 'W' ))"
   ]
  },
  {
   "cell_type": "code",
   "execution_count": 59,
   "id": "08338e9c",
   "metadata": {},
   "outputs": [
    {
     "name": "stderr",
     "output_type": "stream",
     "text": [
      "WARNING:urllib3.connectionpool:Retrying (Retry(total=1, connect=None, read=None, redirect=None, status=None)) after connection broken by 'ReadTimeoutError(\"HTTPSConnectionPool(host='nominatim.openstreetmap.org', port=443): Read timed out. (read timeout=1)\")': /search?q=%28%27Broadway%27%2C+%27E%27%2C+%27NYC%27%29&format=json&limit=1\n"
     ]
    },
    {
     "data": {
      "text/plain": [
       "Location(Broadway, SoHo, Manhattan, New York County, New York, 10003, United States, (40.7250916, -73.9970609, 0.0))"
      ]
     },
     "execution_count": 59,
     "metadata": {},
     "output_type": "execute_result"
    }
   ],
   "source": [
    "locator.geocode(('Broadway', 'E', 'NYC' ))"
   ]
  },
  {
   "cell_type": "code",
   "execution_count": null,
   "id": "e8d7b703",
   "metadata": {},
   "outputs": [],
   "source": []
  }
 ],
 "metadata": {
  "kernelspec": {
   "display_name": "venv_dataJour",
   "language": "python",
   "name": "venv_datajour"
  },
  "language_info": {
   "codemirror_mode": {
    "name": "ipython",
    "version": 3
   },
   "file_extension": ".py",
   "mimetype": "text/x-python",
   "name": "python",
   "nbconvert_exporter": "python",
   "pygments_lexer": "ipython3",
   "version": "3.9.5"
  }
 },
 "nbformat": 4,
 "nbformat_minor": 5
}
